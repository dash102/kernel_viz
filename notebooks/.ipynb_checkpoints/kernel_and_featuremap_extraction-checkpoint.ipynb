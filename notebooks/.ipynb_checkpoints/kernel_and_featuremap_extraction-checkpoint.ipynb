{
 "cells": [
  {
   "cell_type": "code",
   "execution_count": 3,
   "metadata": {},
   "outputs": [],
   "source": [
    "%matplotlib inline\n",
    "\n",
    "import os\n",
    "# needed to add for some weird jupyter notebook thing\n",
    "os.environ[\"KMP_DUPLICATE_LIB_OK\"]=\"TRUE\"\n",
    "\n",
    "import torch\n",
    "import torch.nn as nn\n",
    "import torchvision.models as models\n",
    "import numpy as np\n",
    "import matplotlib.pyplot as plt\n",
    "import random\n",
    "from tqdm import tqdm\n",
    "from numpy.random import default_rng"
   ]
  },
  {
   "cell_type": "markdown",
   "metadata": {},
   "source": [
    "### Setting seeds for repeatability"
   ]
  },
  {
   "cell_type": "code",
   "execution_count": 4,
   "metadata": {},
   "outputs": [],
   "source": [
    "random.seed(0)\n",
    "torch.manual_seed(0)\n",
    "np.random.seed(0)\n",
    "torch.cuda.manual_seed_all(0)\n",
    "\n",
    "device = torch.device(\"cpu\")"
   ]
  },
  {
   "cell_type": "markdown",
   "metadata": {},
   "source": [
    "### Defining model and extracting kernels"
   ]
  },
  {
   "cell_type": "code",
   "execution_count": 5,
   "metadata": {},
   "outputs": [],
   "source": [
    "net = models.resnet50(pretrained=True)"
   ]
  },
  {
   "cell_type": "code",
   "execution_count": 6,
   "metadata": {},
   "outputs": [
    {
     "name": "stdout",
     "output_type": "stream",
     "text": [
      "torch.Size([64, 3, 7, 7])\n",
      "torch.Size([64, 64, 1, 1])\n",
      "torch.Size([64, 64, 3, 3])\n",
      "torch.Size([256, 64, 1, 1])\n",
      "torch.Size([256, 64, 1, 1])\n",
      "torch.Size([64, 256, 1, 1])\n",
      "torch.Size([64, 64, 3, 3])\n",
      "torch.Size([256, 64, 1, 1])\n",
      "torch.Size([64, 256, 1, 1])\n",
      "torch.Size([64, 64, 3, 3])\n",
      "torch.Size([256, 64, 1, 1])\n",
      "torch.Size([128, 256, 1, 1])\n",
      "torch.Size([128, 128, 3, 3])\n",
      "torch.Size([512, 128, 1, 1])\n",
      "torch.Size([512, 256, 1, 1])\n",
      "torch.Size([128, 512, 1, 1])\n",
      "torch.Size([128, 128, 3, 3])\n",
      "torch.Size([512, 128, 1, 1])\n",
      "torch.Size([128, 512, 1, 1])\n",
      "torch.Size([128, 128, 3, 3])\n",
      "torch.Size([512, 128, 1, 1])\n",
      "torch.Size([128, 512, 1, 1])\n",
      "torch.Size([128, 128, 3, 3])\n",
      "torch.Size([512, 128, 1, 1])\n",
      "torch.Size([256, 512, 1, 1])\n",
      "torch.Size([256, 256, 3, 3])\n",
      "torch.Size([1024, 256, 1, 1])\n",
      "torch.Size([1024, 512, 1, 1])\n",
      "torch.Size([256, 1024, 1, 1])\n",
      "torch.Size([256, 256, 3, 3])\n",
      "torch.Size([1024, 256, 1, 1])\n",
      "torch.Size([256, 1024, 1, 1])\n",
      "torch.Size([256, 256, 3, 3])\n",
      "torch.Size([1024, 256, 1, 1])\n",
      "torch.Size([256, 1024, 1, 1])\n",
      "torch.Size([256, 256, 3, 3])\n",
      "torch.Size([1024, 256, 1, 1])\n",
      "torch.Size([256, 1024, 1, 1])\n",
      "torch.Size([256, 256, 3, 3])\n",
      "torch.Size([1024, 256, 1, 1])\n",
      "torch.Size([256, 1024, 1, 1])\n",
      "torch.Size([256, 256, 3, 3])\n",
      "torch.Size([1024, 256, 1, 1])\n",
      "torch.Size([512, 1024, 1, 1])\n",
      "torch.Size([512, 512, 3, 3])\n",
      "torch.Size([2048, 512, 1, 1])\n",
      "torch.Size([2048, 1024, 1, 1])\n",
      "torch.Size([512, 2048, 1, 1])\n",
      "torch.Size([512, 512, 3, 3])\n",
      "torch.Size([2048, 512, 1, 1])\n",
      "torch.Size([512, 2048, 1, 1])\n",
      "torch.Size([512, 512, 3, 3])\n",
      "torch.Size([2048, 512, 1, 1])\n",
      "torch.Size([1000, 2048])\n"
     ]
    }
   ],
   "source": [
    "all_layers = []\n",
    "\n",
    "# Filter out all the layers with no weights\n",
    "for module in list(net.modules()):\n",
    "    module_type = type(module)\n",
    "    if module_type not in {nn.Sequential, models.resnet.ResNet, nn.ReLU, nn.BatchNorm2d, \n",
    "                           models.resnet.Bottleneck, nn.MaxPool2d, nn.AdaptiveAvgPool2d, \n",
    "                           nn.modules.pooling.AvgPool2d}:\n",
    "        all_layers.append(module)\n",
    "        print(module.weight.shape)"
   ]
  },
  {
   "cell_type": "code",
   "execution_count": 7,
   "metadata": {},
   "outputs": [],
   "source": [
    "# normalize image (just for matplotlib viewing purposes below)\n",
    "def norm(img):\n",
    "    img_min = np.min(img)\n",
    "    img_max = np.max(img)\n",
    "    return (img - img_min) / (img_max - img_min)"
   ]
  },
  {
   "cell_type": "code",
   "execution_count": 15,
   "metadata": {},
   "outputs": [
    {
     "data": {
      "image/png": "[encoded data removed]",
      "text/plain": [
       "<Figure size 72x1080 with 15 Axes>"
      ]
     },
     "metadata": {
      "needs_background": "light"
     },
     "output_type": "display_data"
    }
   ],
   "source": [
    "# only sampling some kernels per layer bc there are tens of thousands of kernels in some layers\n",
    "num_kernels_to_sample = 15\n",
    "\n",
    "# change this index to get different layer index (0 = first layer)\n",
    "# other layers will not be able to show this 3-channel view \n",
    "# (this first layer is nice bc its kernels have 3 channels which correspond nicely to RGB)\n",
    "# so to visualize other layers, sample the channels as well, and show 1-channel kernels\n",
    "layer = all_layers[0].weight.detach().numpy()\n",
    "\n",
    "out_channels = layer.shape[0]\n",
    "in_channels = 1\n",
    "\n",
    "fig, axs = plt.subplots(num_kernels_to_sample,in_channels)\n",
    "fig.set_size_inches(in_channels, num_kernels_to_sample)\n",
    "\n",
    "rng = default_rng()\n",
    "random_kernel_i = rng.choice(out_channels, size=num_kernels_to_sample, replace=False)\n",
    "random_kernels = layer[random_kernel_i]\n",
    "\n",
    "for i in range(num_kernels_to_sample):\n",
    "    # \n",
    "    kernel = random_kernels[i].swapaxes(0, 2).swapaxes(0, 1)\n",
    "    if kernel.shape[2] > 3:\n",
    "        random_channel_i = rng.choice(kernel.shape[2])\n",
    "        kernel = kernel[:, :, random_channel_i]\n",
    "    axs[i].imshow(norm(kernel))\n",
    "\n",
    "    axs[i].set_xticklabels([])\n",
    "    axs[i].set_yticklabels([])\n",
    "\n",
    "plt.show()"
   ]
  },
  {
   "cell_type": "code",
   "execution_count": null,
   "metadata": {},
   "outputs": [],
   "source": []
  }
 ],
 "metadata": {
  "kernelspec": {
   "display_name": "Python 3",
   "language": "python",
   "name": "python3"
  },
  "language_info": {
   "codemirror_mode": {
    "name": "ipython",
    "version": 3
   },
   "file_extension": ".py",
   "mimetype": "text/x-python",
   "name": "python",
   "nbconvert_exporter": "python",
   "pygments_lexer": "ipython3",
   "version": "3.9.1"
  }
 },
 "nbformat": 4,
 "nbformat_minor": 4
}
