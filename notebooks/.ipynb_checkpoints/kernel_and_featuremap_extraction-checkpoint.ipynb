{
 "cells": [
  {
   "cell_type": "code",
   "execution_count": 6,
   "metadata": {},
   "outputs": [],
   "source": [
    "import torch\n",
    "import torch.nn as nn\n",
    "import torchvision.models as models\n",
    "import numpy as np\n",
    "import matplotlib.pyplot as plt\n",
    "import random"
   ]
  },
  {
   "cell_type": "markdown",
   "metadata": {},
   "source": [
    "### Setting seeds for repeatability"
   ]
  },
  {
   "cell_type": "code",
   "execution_count": 3,
   "metadata": {},
   "outputs": [],
   "source": [
    "random.seed(0)\n",
    "torch.manual_seed(0)\n",
    "np.random.seed(0)\n",
    "torch.cuda.manual_seed_all(0)\n",
    "\n",
    "device = torch.device(\"cpu\")"
   ]
  },
  {
   "cell_type": "markdown",
   "metadata": {},
   "source": [
    "### Defining model and extracting kernels"
   ]
  },
  {
   "cell_type": "code",
   "execution_count": 7,
   "metadata": {},
   "outputs": [
    {
     "name": "stderr",
     "output_type": "stream",
     "text": [
      "Downloading: \"https://download.pytorch.org/models/resnet50-19c8e357.pth\" to C:\\Users\\steph/.cache\\torch\\hub\\checkpoints\\resnet50-19c8e357.pth\n"
     ]
    },
    {
     "data": {
      "application/vnd.jupyter.widget-view+json": {
       "model_id": "e7e8a4bd88a4495da18691fdd55b8ba8",
       "version_major": 2,
       "version_minor": 0
      },
      "text/plain": [
       "HBox(children=(FloatProgress(value=0.0, max=102502400.0), HTML(value='')))"
      ]
     },
     "metadata": {},
     "output_type": "display_data"
    },
    {
     "name": "stdout",
     "output_type": "stream",
     "text": [
      "\n"
     ]
    }
   ],
   "source": [
    "net = models.resnet50(pretrained=True)"
   ]
  },
  {
   "cell_type": "code",
   "execution_count": 21,
   "metadata": {},
   "outputs": [
    {
     "data": {
      "text/plain": [
       "[Conv2d(3, 64, kernel_size=(7, 7), stride=(2, 2), padding=(3, 3), bias=False),\n",
       " Conv2d(64, 64, kernel_size=(1, 1), stride=(1, 1), bias=False),\n",
       " Conv2d(64, 64, kernel_size=(3, 3), stride=(1, 1), padding=(1, 1), bias=False),\n",
       " Conv2d(64, 256, kernel_size=(1, 1), stride=(1, 1), bias=False),\n",
       " Conv2d(64, 256, kernel_size=(1, 1), stride=(1, 1), bias=False),\n",
       " Conv2d(256, 64, kernel_size=(1, 1), stride=(1, 1), bias=False),\n",
       " Conv2d(64, 64, kernel_size=(3, 3), stride=(1, 1), padding=(1, 1), bias=False),\n",
       " Conv2d(64, 256, kernel_size=(1, 1), stride=(1, 1), bias=False),\n",
       " Conv2d(256, 64, kernel_size=(1, 1), stride=(1, 1), bias=False),\n",
       " Conv2d(64, 64, kernel_size=(3, 3), stride=(1, 1), padding=(1, 1), bias=False),\n",
       " Conv2d(64, 256, kernel_size=(1, 1), stride=(1, 1), bias=False),\n",
       " Conv2d(256, 128, kernel_size=(1, 1), stride=(1, 1), bias=False),\n",
       " Conv2d(128, 128, kernel_size=(3, 3), stride=(2, 2), padding=(1, 1), bias=False),\n",
       " Conv2d(128, 512, kernel_size=(1, 1), stride=(1, 1), bias=False),\n",
       " Conv2d(256, 512, kernel_size=(1, 1), stride=(2, 2), bias=False),\n",
       " Conv2d(512, 128, kernel_size=(1, 1), stride=(1, 1), bias=False),\n",
       " Conv2d(128, 128, kernel_size=(3, 3), stride=(1, 1), padding=(1, 1), bias=False),\n",
       " Conv2d(128, 512, kernel_size=(1, 1), stride=(1, 1), bias=False),\n",
       " Conv2d(512, 128, kernel_size=(1, 1), stride=(1, 1), bias=False),\n",
       " Conv2d(128, 128, kernel_size=(3, 3), stride=(1, 1), padding=(1, 1), bias=False),\n",
       " Conv2d(128, 512, kernel_size=(1, 1), stride=(1, 1), bias=False),\n",
       " Conv2d(512, 128, kernel_size=(1, 1), stride=(1, 1), bias=False),\n",
       " Conv2d(128, 128, kernel_size=(3, 3), stride=(1, 1), padding=(1, 1), bias=False),\n",
       " Conv2d(128, 512, kernel_size=(1, 1), stride=(1, 1), bias=False),\n",
       " Conv2d(512, 256, kernel_size=(1, 1), stride=(1, 1), bias=False),\n",
       " Conv2d(256, 256, kernel_size=(3, 3), stride=(2, 2), padding=(1, 1), bias=False),\n",
       " Conv2d(256, 1024, kernel_size=(1, 1), stride=(1, 1), bias=False),\n",
       " Conv2d(512, 1024, kernel_size=(1, 1), stride=(2, 2), bias=False),\n",
       " Conv2d(1024, 256, kernel_size=(1, 1), stride=(1, 1), bias=False),\n",
       " Conv2d(256, 256, kernel_size=(3, 3), stride=(1, 1), padding=(1, 1), bias=False),\n",
       " Conv2d(256, 1024, kernel_size=(1, 1), stride=(1, 1), bias=False),\n",
       " Conv2d(1024, 256, kernel_size=(1, 1), stride=(1, 1), bias=False),\n",
       " Conv2d(256, 256, kernel_size=(3, 3), stride=(1, 1), padding=(1, 1), bias=False),\n",
       " Conv2d(256, 1024, kernel_size=(1, 1), stride=(1, 1), bias=False),\n",
       " Conv2d(1024, 256, kernel_size=(1, 1), stride=(1, 1), bias=False),\n",
       " Conv2d(256, 256, kernel_size=(3, 3), stride=(1, 1), padding=(1, 1), bias=False),\n",
       " Conv2d(256, 1024, kernel_size=(1, 1), stride=(1, 1), bias=False),\n",
       " Conv2d(1024, 256, kernel_size=(1, 1), stride=(1, 1), bias=False),\n",
       " Conv2d(256, 256, kernel_size=(3, 3), stride=(1, 1), padding=(1, 1), bias=False),\n",
       " Conv2d(256, 1024, kernel_size=(1, 1), stride=(1, 1), bias=False),\n",
       " Conv2d(1024, 256, kernel_size=(1, 1), stride=(1, 1), bias=False),\n",
       " Conv2d(256, 256, kernel_size=(3, 3), stride=(1, 1), padding=(1, 1), bias=False),\n",
       " Conv2d(256, 1024, kernel_size=(1, 1), stride=(1, 1), bias=False),\n",
       " Conv2d(1024, 512, kernel_size=(1, 1), stride=(1, 1), bias=False),\n",
       " Conv2d(512, 512, kernel_size=(3, 3), stride=(2, 2), padding=(1, 1), bias=False),\n",
       " Conv2d(512, 2048, kernel_size=(1, 1), stride=(1, 1), bias=False),\n",
       " Conv2d(1024, 2048, kernel_size=(1, 1), stride=(2, 2), bias=False),\n",
       " Conv2d(2048, 512, kernel_size=(1, 1), stride=(1, 1), bias=False),\n",
       " Conv2d(512, 512, kernel_size=(3, 3), stride=(1, 1), padding=(1, 1), bias=False),\n",
       " Conv2d(512, 2048, kernel_size=(1, 1), stride=(1, 1), bias=False),\n",
       " Conv2d(2048, 512, kernel_size=(1, 1), stride=(1, 1), bias=False),\n",
       " Conv2d(512, 512, kernel_size=(3, 3), stride=(1, 1), padding=(1, 1), bias=False),\n",
       " Conv2d(512, 2048, kernel_size=(1, 1), stride=(1, 1), bias=False),\n",
       " Linear(in_features=2048, out_features=1000, bias=True)]"
      ]
     },
     "execution_count": 21,
     "metadata": {},
     "output_type": "execute_result"
    }
   ],
   "source": [
    "conv_layers = []\n",
    "linear_layers = []\n",
    "\n",
    "for module in list(net.modules()):\n",
    "    if type(module) not in {nn.Sequential, models.resnet.ResNet, nn.ReLU, nn.BatchNorm2d, \n",
    "                            models.resnet.Bottleneck, nn.MaxPool2d, nn.AdaptiveAvgPool2d}:\n",
    "        all_layers.append(module)"
   ]
  },
  {
   "cell_type": "code",
   "execution_count": null,
   "metadata": {},
   "outputs": [],
   "source": []
  }
 ],
 "metadata": {
  "kernelspec": {
   "display_name": "Python 3",
   "language": "python",
   "name": "python3"
  },
  "language_info": {
   "codemirror_mode": {
    "name": "ipython",
    "version": 3
   },
   "file_extension": ".py",
   "mimetype": "text/x-python",
   "name": "python",
   "nbconvert_exporter": "python",
   "pygments_lexer": "ipython3",
   "version": "3.8.3"
  }
 },
 "nbformat": 4,
 "nbformat_minor": 4
}
